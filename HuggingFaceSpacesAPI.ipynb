{
 "cells": [
  {
   "cell_type": "code",
   "execution_count": 1,
   "id": "17b7e90f-502a-4c7d-895f-2b7e28125991",
   "metadata": {},
   "outputs": [
    {
     "name": "stdout",
     "output_type": "stream",
     "text": [
      "Requirement already satisfied: gradio_client in ./venv/lib/python3.10/site-packages (1.5.2)\n",
      "Requirement already satisfied: fsspec in ./venv/lib/python3.10/site-packages (from gradio_client) (2024.9.0)\n",
      "Requirement already satisfied: httpx>=0.24.1 in ./venv/lib/python3.10/site-packages (from gradio_client) (0.28.1)\n",
      "Requirement already satisfied: huggingface-hub>=0.19.3 in ./venv/lib/python3.10/site-packages (from gradio_client) (0.27.0)\n",
      "Requirement already satisfied: packaging in ./venv/lib/python3.10/site-packages (from gradio_client) (24.2)\n",
      "Requirement already satisfied: typing-extensions~=4.0 in ./venv/lib/python3.10/site-packages (from gradio_client) (4.12.2)\n",
      "Requirement already satisfied: websockets<15.0,>=10.0 in ./venv/lib/python3.10/site-packages (from gradio_client) (14.1)\n",
      "Requirement already satisfied: anyio in ./venv/lib/python3.10/site-packages (from httpx>=0.24.1->gradio_client) (4.7.0)\n",
      "Requirement already satisfied: certifi in ./venv/lib/python3.10/site-packages (from httpx>=0.24.1->gradio_client) (2024.12.14)\n",
      "Requirement already satisfied: httpcore==1.* in ./venv/lib/python3.10/site-packages (from httpx>=0.24.1->gradio_client) (1.0.7)\n",
      "Requirement already satisfied: idna in ./venv/lib/python3.10/site-packages (from httpx>=0.24.1->gradio_client) (3.10)\n",
      "Requirement already satisfied: h11<0.15,>=0.13 in ./venv/lib/python3.10/site-packages (from httpcore==1.*->httpx>=0.24.1->gradio_client) (0.14.0)\n",
      "Requirement already satisfied: filelock in ./venv/lib/python3.10/site-packages (from huggingface-hub>=0.19.3->gradio_client) (3.16.1)\n",
      "Requirement already satisfied: pyyaml>=5.1 in ./venv/lib/python3.10/site-packages (from huggingface-hub>=0.19.3->gradio_client) (6.0.2)\n",
      "Requirement already satisfied: requests in ./venv/lib/python3.10/site-packages (from huggingface-hub>=0.19.3->gradio_client) (2.32.3)\n",
      "Requirement already satisfied: tqdm>=4.42.1 in ./venv/lib/python3.10/site-packages (from huggingface-hub>=0.19.3->gradio_client) (4.67.1)\n",
      "Requirement already satisfied: exceptiongroup>=1.0.2 in ./venv/lib/python3.10/site-packages (from anyio->httpx>=0.24.1->gradio_client) (1.2.2)\n",
      "Requirement already satisfied: sniffio>=1.1 in ./venv/lib/python3.10/site-packages (from anyio->httpx>=0.24.1->gradio_client) (1.3.1)\n",
      "Requirement already satisfied: charset-normalizer<4,>=2 in ./venv/lib/python3.10/site-packages (from requests->huggingface-hub>=0.19.3->gradio_client) (3.4.0)\n",
      "Requirement already satisfied: urllib3<3,>=1.21.1 in ./venv/lib/python3.10/site-packages (from requests->huggingface-hub>=0.19.3->gradio_client) (2.2.3)\n"
     ]
    }
   ],
   "source": [
    "!pip install gradio_client"
   ]
  },
  {
   "cell_type": "code",
   "execution_count": 2,
   "id": "79f0a506-6192-4086-a433-1adf0d86b9e0",
   "metadata": {},
   "outputs": [
    {
     "name": "stdout",
     "output_type": "stream",
     "text": [
      "Loaded as API: https://asteroid16-blip-image-captioning-api.hf.space ✔\n",
      "a red bus with a blue stripe on the side\n"
     ]
    }
   ],
   "source": [
    "from gradio_client import Client, handle_file\n",
    "\n",
    "client = Client(\"asteroid16/blip-image-captioning-api\")\n",
    "result = client.predict(\n",
    "\t\tinput=handle_file('https://raw.githubusercontent.com/gradio-app/gradio/main/test/test_files/bus.png'),\n",
    "\t\tapi_name=\"/predict\"\n",
    ")\n",
    "print(result)"
   ]
  },
  {
   "cell_type": "code",
   "execution_count": null,
   "id": "6209304f-3499-48ed-8a00-ce49f369b2b2",
   "metadata": {},
   "outputs": [],
   "source": []
  }
 ],
 "metadata": {
  "kernelspec": {
   "display_name": "Python 3 (ipykernel)",
   "language": "python",
   "name": "python3"
  },
  "language_info": {
   "codemirror_mode": {
    "name": "ipython",
    "version": 3
   },
   "file_extension": ".py",
   "mimetype": "text/x-python",
   "name": "python",
   "nbconvert_exporter": "python",
   "pygments_lexer": "ipython3",
   "version": "3.10.16"
  }
 },
 "nbformat": 4,
 "nbformat_minor": 5
}
